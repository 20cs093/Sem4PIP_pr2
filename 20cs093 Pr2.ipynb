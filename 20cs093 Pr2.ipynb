{
 "cells": [
  {
   "cell_type": "markdown",
   "id": "ddf3ba9f",
   "metadata": {},
   "source": [
    "# Practical Aim:  Study and Learn List, Tuple, Set and Dictionary.\n",
    "   ## ID: 20cs093\n",
    "   ## Name: Parth R. Tandel\n",
    "\n",
    "GitHub repository link: https://github.com/20cs093/Sem4PIP_pr2.git"
   ]
  },
  {
   "cell_type": "markdown",
   "id": "7322aee3",
   "metadata": {},
   "source": [
    "### Dictionary\n",
    "a. Write a Python script to check whether a given key already exists in a dictionary.\n",
    "\n",
    "b. Write a Python script to merge two Python dictionaries.\n",
    "\n",
    "c. Write a Python program to sum all the items in a dictionary.\n",
    "\n",
    "d. Write a Python script to add a key to a dictionary.\n",
    "\n",
    "Sample Dictionary : {0: 10, 1: 20}\n",
    "\n",
    "Expected Result : {0: 10, 1: 20, 2: 30}\n",
    "\n",
    "e. Write a Python script to concatenate following dictionaries to create a new one.\n",
    "\n",
    "Sample Dictionary :\n",
    "\n",
    "    dic1={1:10, 2:20}\n",
    "\n",
    "    dic2={3:30, 4:40}\n",
    "\n",
    "    dic3={5:50,6:60}\n",
    "\n",
    "Expected Result : {1: 10, 2: 20, 3: 30, 4: 40, 5: 50, 6: 60}\n"
   ]
  },
  {
   "cell_type": "code",
   "execution_count": 9,
   "id": "7b1be4a8",
   "metadata": {},
   "outputs": [
    {
     "name": "stdout",
     "output_type": "stream",
     "text": [
      "dict1 = {0: 'hey', 1: 'fruit', 'seven': 7, 8: 'eight'}\n",
      "dict2 = {2: 20, 6: 60}\n",
      "dict3 = {7: 49, 9: 81, 10: 100}\n"
     ]
    }
   ],
   "source": [
    "dict1 = {0:'hey', 1:'fruit', 'seven':7, 8:'eight'}\n",
    "dict2 = {2:20,6:60}\n",
    "dict3 = {7:49, 9:81, 10:100}\n",
    "print('dict1 =',dict1)\n",
    "print('dict2 =',dict2)\n",
    "print('dict3 =',dict3)"
   ]
  },
  {
   "cell_type": "code",
   "execution_count": 10,
   "id": "c5493570",
   "metadata": {},
   "outputs": [
    {
     "name": "stdout",
     "output_type": "stream",
     "text": [
      "Enter key to check.4\n",
      "4 is present in dict1: False\n"
     ]
    }
   ],
   "source": [
    "#a. To check whether a given key already exists in a dictionary.\n",
    "\n",
    "x = int(input('Enter key to check.'))\n",
    "print(x, \"is present in dict1:\", x in dict1)\n"
   ]
  },
  {
   "cell_type": "code",
   "execution_count": 14,
   "id": "84b50341",
   "metadata": {},
   "outputs": [
    {
     "name": "stdout",
     "output_type": "stream",
     "text": [
      "dict_merge = {0: 'hey', 1: 'fruit', 'seven': 7, 8: 'eight', 2: 20, 6: 60}\n"
     ]
    }
   ],
   "source": [
    "#b. To merge two Python dictionaries.\n",
    "\n",
    "dict_merge = dict1 | dict2\n",
    "print('dict_merge =',dict_merge)\n"
   ]
  },
  {
   "cell_type": "code",
   "execution_count": 18,
   "id": "e8873f14",
   "metadata": {},
   "outputs": [
    {
     "name": "stdout",
     "output_type": "stream",
     "text": [
      "dict3 = {7: 49, 9: 81, 10: 100}\n",
      "230\n"
     ]
    }
   ],
   "source": [
    "#c. to sum all the items in a dictionary\n",
    "\n",
    "print('dict3 =', dict3)\n",
    "s = 0\n",
    "for i in dict3:\n",
    "    s = s + dict3[i]\n",
    "print(s)\n"
   ]
  },
  {
   "cell_type": "code",
   "execution_count": 20,
   "id": "21c595f7",
   "metadata": {},
   "outputs": [
    {
     "name": "stdout",
     "output_type": "stream",
     "text": [
      "dict3 = {7: 49, 9: 81, 10: 100, 16: 256}\n",
      "Enter new key: 21\n",
      "dict3 = {7: 49, 9: 81, 10: 100, 16: 256, 21: 441}\n"
     ]
    }
   ],
   "source": [
    "#d. to add a key to a dictionary\n",
    "\n",
    "print('dict3 =', dict3)\n",
    "k = int(input('Enter new key: '))\n",
    "v = k ** 2\n",
    "if k in dict3:\n",
    "    print('Key already present.')\n",
    "else:\n",
    "    dict3[k] = v\n",
    "    print('dict3 =', dict3)\n"
   ]
  },
  {
   "cell_type": "code",
   "execution_count": 21,
   "id": "ceb149a3",
   "metadata": {},
   "outputs": [
    {
     "name": "stdout",
     "output_type": "stream",
     "text": [
      "dict1 = {0: 'hey', 1: 'fruit', 'seven': 7, 8: 'eight'}\n",
      "dict2 = {2: 20, 6: 60}\n",
      "dict3 = {7: 49, 9: 81, 10: 100, 16: 256, 21: 441}\n",
      "concat = {0: 'hey', 1: 'fruit', 'seven': 7, 8: 'eight', 2: 20, 6: 60, 7: 49, 9: 81, 10: 100, 16: 256, 21: 441}\n"
     ]
    }
   ],
   "source": [
    "#e. to concatenate following dictionaries to create a new one.\n",
    "\n",
    "print('dict1 =', dict1)\n",
    "print('dict2 =', dict2)\n",
    "print('dict3 =', dict3)\n",
    "concat = dict1 | dict2 | dict3\n",
    "print('concat =', concat)\n"
   ]
  },
  {
   "cell_type": "markdown",
   "id": "e6561493",
   "metadata": {},
   "source": [
    "### Tuples\n",
    "a. Write a Python program to create a tuple with different data types.\n",
    "\n",
    "b. Write a Python program to create a tuple with numbers and print one item.\n",
    "\n",
    "c. Write a Python program to add an item in a tuple.\n",
    "\n",
    "d. Write a Python program to convert a tuple to a string.\n",
    "\n",
    "e. Write a Python program to find the length of a tuple."
   ]
  },
  {
   "cell_type": "code",
   "execution_count": 22,
   "id": "31452336",
   "metadata": {},
   "outputs": [
    {
     "name": "stdout",
     "output_type": "stream",
     "text": [
      "tup1 = (10, 9.8, False, 'Hey')\n"
     ]
    }
   ],
   "source": [
    "#a. to create a tuple with different data types.\n",
    "\n",
    "tup1 = (10, 9.8, False, 'Hey')\n",
    "print('tup1 =', tup1)"
   ]
  },
  {
   "cell_type": "code",
   "execution_count": 25,
   "id": "1fe69aa2",
   "metadata": {},
   "outputs": [
    {
     "name": "stdout",
     "output_type": "stream",
     "text": [
      "tup2 = (0, 1, 8, 27, 64, 125)\n",
      "Enter index: 3\n",
      "tup2[3] = 27\n"
     ]
    }
   ],
   "source": [
    "#b. to create a tuple with numbers and print one item\n",
    "\n",
    "tup2 = (0, 1, 8, 27, 64, 125)\n",
    "print('tup2 =', tup2)\n",
    "x = int(input('Enter index: '))\n",
    "print('tup2[{}] ='.format(x), tup2[x])\n"
   ]
  },
  {
   "cell_type": "code",
   "execution_count": 27,
   "id": "080b931e",
   "metadata": {},
   "outputs": [
    {
     "name": "stdout",
     "output_type": "stream",
     "text": [
      "Before adding, tup1 = (10, 9.8, False, 'Hey')\n",
      "Enter item: 16\n",
      "After adding, tup1 = (10, 9.8, False, 'Hey', 16)\n"
     ]
    }
   ],
   "source": [
    "#c. to add an item in a tuple.\n",
    "\n",
    "print('Before adding, tup1 =', tup1)\n",
    "item = int(input('Enter item: '))\n",
    "tup1 = tup1 + (item,)\n",
    "print('After adding, tup1 =', tup1)\n"
   ]
  },
  {
   "cell_type": "code",
   "execution_count": 30,
   "id": "da8f9750",
   "metadata": {},
   "outputs": [
    {
     "name": "stdout",
     "output_type": "stream",
     "text": [
      "tup1 = (10, 9.8, False, 'Hey', 16)\n",
      "tup2 = (0, 1, 8, 27, 64, 125)\n",
      "tup1 as string = 109.8FalseHey16\n",
      "tup2 as string = 0182764125\n"
     ]
    }
   ],
   "source": [
    "#d. to convert a tuple to a string\n",
    "\n",
    "print('tup1 =', tup1)\n",
    "print('tup2 =', tup2)\n",
    "\n",
    "str1 = ''\n",
    "str2 = ''\n",
    "\n",
    "str1 = ''.join(map(str,tup1))\n",
    "\n",
    "for i in tup2:\n",
    "    str2 = str2 + str(i)\n",
    "\n",
    "print('tup1 as string =', str1)\n",
    "print('tup2 as string =', str2)"
   ]
  },
  {
   "cell_type": "code",
   "execution_count": 31,
   "id": "009ed67f",
   "metadata": {},
   "outputs": [
    {
     "name": "stdout",
     "output_type": "stream",
     "text": [
      "tup1 = (10, 9.8, False, 'Hey', 16)\n",
      "tup2 = (0, 1, 8, 27, 64, 125)\n",
      "5\n",
      "6\n"
     ]
    }
   ],
   "source": [
    "#e. to find the length of a tuple.\n",
    "\n",
    "print('tup1 =', tup1)\n",
    "print('tup2 =', tup2)\n",
    "\n",
    "print(len(tup1))\n",
    "print(len(tup2))\n"
   ]
  },
  {
   "cell_type": "markdown",
   "id": "bfc2a2c9",
   "metadata": {},
   "source": [
    "### Set\n",
    "a. Write a Python program to add member(s) in a set and clear a set\n",
    "\n",
    "b. Write a Python program to remove an item from a set if it is present in the set.\n",
    "\n",
    "c. Write a Python program to create an intersection, Union, difference of sets.\n",
    "\n",
    "d. Write a Python program to find maximum and the minimum value in a set.\n",
    "\n",
    "e. Write a Python program to find the most common elements and their counts from list, tuple, dictionary."
   ]
  },
  {
   "cell_type": "code",
   "execution_count": 38,
   "id": "774b5e9a",
   "metadata": {},
   "outputs": [
    {
     "name": "stdout",
     "output_type": "stream",
     "text": [
      "fruits = {'cherry', 'tomato', 'peach', 'papaya', 'cantaloupe', 'raspberry', 'strawberry'}\n",
      "cubes = set()\n",
      "veggies = {'green pea', 'asparagus', 'tomato', 'papaya', 'brocolli'}\n"
     ]
    }
   ],
   "source": [
    "fruits = {'raspberry', 'peach', 'strawberry', 'papaya', 'cherry', 'cantaloupe', 'tomato'}\n",
    "cubes = set()\n",
    "veggies = {'asparagus', 'tomato', 'brocolli', 'green pea', 'papaya'}\n",
    "\n",
    "print('fruits =', fruits)\n",
    "print('cubes =', cubes)\n",
    "print('veggies =', veggies)"
   ]
  },
  {
   "cell_type": "code",
   "execution_count": 39,
   "id": "a2d4c7b0",
   "metadata": {},
   "outputs": [
    {
     "name": "stdout",
     "output_type": "stream",
     "text": [
      "fruits = {'cherry', 'tomato', 'peach', 'papaya', 'cantaloupe', 'raspberry', 'strawberry'}\n",
      "cubes = set()\n",
      "After Update: \n",
      "fruits = {'cherry', 'tomato', 'peach', 'papaya', 'cantaloupe', 'raspberry', 'strawberry', 'banana'}\n",
      "cubes = {0, 1, 64, 8, 27, 125}\n"
     ]
    }
   ],
   "source": [
    "#a.  to add member(s) in a set\n",
    " \n",
    "print('fruits =', fruits)\n",
    "print('cubes =', cubes)\n",
    "\n",
    "cubes.update(tup2)\n",
    "fruits.add('banana')\n",
    "\n",
    "print(\"After Update: \")\n",
    "print('fruits =', fruits)\n",
    "print('cubes =', cubes)"
   ]
  },
  {
   "cell_type": "code",
   "execution_count": 40,
   "id": "b9aaa876",
   "metadata": {},
   "outputs": [
    {
     "name": "stdout",
     "output_type": "stream",
     "text": [
      "Before clear:  {1, 2, 3, 4, 5, 6, 10, 147, 85, 26}\n",
      "After clear:  set()\n"
     ]
    }
   ],
   "source": [
    "#a. to clear a set\n",
    "\n",
    "numbers = {1,2,3,4,5,6,10,85,26,147}\n",
    "print(\"Before clear: \", numbers)\n",
    "numbers.clear()\n",
    "print(\"After clear: \", numbers)\n"
   ]
  },
  {
   "cell_type": "code",
   "execution_count": 41,
   "id": "f178214a",
   "metadata": {},
   "outputs": [
    {
     "name": "stdout",
     "output_type": "stream",
     "text": [
      "fruits = {'cherry', 'tomato', 'peach', 'papaya', 'cantaloupe', 'raspberry', 'strawberry', 'banana'}\n",
      "Enter item to remove from fruits: strawberry\n",
      "fruits = {'cherry', 'tomato', 'peach', 'papaya', 'cantaloupe', 'raspberry', 'banana'}\n"
     ]
    }
   ],
   "source": [
    "#b. to remove an item from a set if it is present in the set.\n",
    "\n",
    "print('fruits =', fruits)\n",
    "discard = input('Enter item to remove from fruits: ')\n",
    "fruits.discard(discard)\n",
    "print('fruits =', fruits)\n"
   ]
  },
  {
   "cell_type": "code",
   "execution_count": 43,
   "id": "c6bbb408",
   "metadata": {},
   "outputs": [
    {
     "name": "stdout",
     "output_type": "stream",
     "text": [
      "fruits = {'cherry', 'tomato', 'peach', 'papaya', 'cantaloupe', 'raspberry', 'banana'}\n",
      "veggies = {'green pea', 'asparagus', 'tomato', 'papaya', 'brocolli'}\n",
      "\n",
      "Fruits eaten as veggies (intersection):  {'tomato', 'papaya'}\n",
      "All fruits and veggies (union):  {'green pea', 'asparagus', 'tomato', 'cherry', 'peach', 'papaya', 'cantaloupe', 'raspberry', 'banana', 'brocolli'}\n",
      "Fruits not eaten as veggies (difference):  {'cherry', 'peach', 'cantaloupe', 'raspberry', 'banana'}\n"
     ]
    }
   ],
   "source": [
    "#c. to create an intersection, Union, difference of sets.\n",
    "\n",
    "print('fruits =', fruits)\n",
    "print('veggies =', veggies)\n",
    "print()\n",
    "intersect = fruits.intersection(veggies)\n",
    "union = fruits.union(veggies)\n",
    "diff = fruits.difference(veggies)\n",
    "\n",
    "print('Fruits eaten as veggies (intersection): ', intersect)\n",
    "print('All fruits and veggies (union): ', union)\n",
    "print('Fruits not eaten as veggies (difference): ', diff)\n"
   ]
  },
  {
   "cell_type": "code",
   "execution_count": 48,
   "id": "8e70043a",
   "metadata": {},
   "outputs": [
    {
     "name": "stdout",
     "output_type": "stream",
     "text": [
      "cubes = {0, 1, 64, 8, 27, 125}\n",
      "min = 0\t max = 125\n"
     ]
    }
   ],
   "source": [
    "#d. to find maximum and the minimum value in a set.\n",
    "\n",
    "print('cubes =', cubes)\n",
    "\n",
    "Min = min(cubes)\n",
    "Max = max(cubes)\n",
    "\n",
    "print('min = {}\\t max = {}'.format(Min,Max))\n"
   ]
  },
  {
   "cell_type": "code",
   "execution_count": 52,
   "id": "3eb90783",
   "metadata": {},
   "outputs": [
    {
     "name": "stdout",
     "output_type": "stream",
     "text": [
      "l = [1, 5, 1, 8, 4, 2, 1, 9, 1, 1, 1, 9, 6, 4]\n",
      "Most frequent element: 1\tFrequency: 6\n",
      "\n",
      "t = (8, 8, 8, 2, 9, 4, 8, 5, 8, 7, 2, 8)\n",
      "Most frequent element: 8\tFrequency: 6\n",
      "\n",
      "d = {'a': 0, 'b': 2, 'c': 4, 'r': 5, 'h': 8, 'i': 9, 'k': 5, 'l': 3, 'g': 8, 'o': 5, 'q': 5}\n",
      "Most frequent element: 5\tFrequency: 4\n"
     ]
    }
   ],
   "source": [
    "#e. to find the most common elements and their counts from list, tuple, dictionary.\n",
    "\n",
    "l = [1,5,1,8,4,2,1,9,1,1,1,9,6,4]\n",
    "\n",
    "c = 0\n",
    "set_l = set(l)\n",
    "for i in set_l:\n",
    "    ci = l.count(i)\n",
    "    if c<ci:\n",
    "        c = ci\n",
    "        ele = i\n",
    "print('l =', l)\n",
    "print('Most frequent element: {}\\tFrequency: {}'.format(ele,c))\n",
    "\n",
    "\n",
    "t = (8,8,8,2,9,4,8,5,8,7,2,8)\n",
    "\n",
    "c = 0\n",
    "set_t = set(t)\n",
    "for i in set_t:\n",
    "    ci = t.count(i)\n",
    "    if c<ci:\n",
    "        c = ci\n",
    "        ele = i\n",
    "print('\\nt =', t)\n",
    "print('Most frequent element: {}\\tFrequency: {}'.format(ele,c))\n",
    "\n",
    "\n",
    "d = {'a':0,'b':2,'c':4,'r':5,'h':8,'i':9,'k':5,'l':3,'g':8,'o':5,'q':5}\n",
    "\n",
    "c = 0\n",
    "dvals = list(d.values())\n",
    "set_d = set(dvals)\n",
    "for i in set_d:\n",
    "    ci = dvals.count(i)\n",
    "    if c<ci:\n",
    "        c = ci\n",
    "        ele = i\n",
    "print('\\nd =', d)\n",
    "print('Most frequent element: {}\\tFrequency: {}'.format(ele,c))\n"
   ]
  },
  {
   "cell_type": "code",
   "execution_count": null,
   "id": "e5d5a961",
   "metadata": {},
   "outputs": [],
   "source": []
  }
 ],
 "metadata": {
  "kernelspec": {
   "display_name": "Python 3 (ipykernel)",
   "language": "python",
   "name": "python3"
  },
  "language_info": {
   "codemirror_mode": {
    "name": "ipython",
    "version": 3
   },
   "file_extension": ".py",
   "mimetype": "text/x-python",
   "name": "python",
   "nbconvert_exporter": "python",
   "pygments_lexer": "ipython3",
   "version": "3.9.7"
  }
 },
 "nbformat": 4,
 "nbformat_minor": 5
}
